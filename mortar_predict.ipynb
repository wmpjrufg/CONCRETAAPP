{
 "cells": [
  {
   "cell_type": "code",
   "execution_count": 1,
   "metadata": {},
   "outputs": [],
   "source": [
    "import pickle\n",
    "import pandas as pd"
   ]
  },
  {
   "cell_type": "code",
   "execution_count": 2,
   "metadata": {},
   "outputs": [],
   "source": [
    "scale = 'scale_mortar.sav'\n",
    "model = 'melhor_modelo.pkl'"
   ]
  },
  {
   "cell_type": "code",
   "execution_count": 3,
   "metadata": {},
   "outputs": [],
   "source": [
    "def MODEL_CONCRETA_MORTAR(edited_df, scale, model):\n",
    "    modelo_carregado = pickle.load(open(model, 'rb'))\n",
    "    escala = pickle.load(open(scale, 'rb'))\n",
    "    edited_df.columns = ['Ci', 'Ca', 'NA', 'AR', 'RBMG', 'Adi', 'Ag', 'Cura']\n",
    "    edited_df['RCD'] = edited_df['AR'] + edited_df['RBMG']\n",
    "    dosagem = [list(edited_df[['Ci', 'Ca', 'NA', 'Adi', 'Ag', 'Cura', 'RCD']].iloc[0])]\n",
    "    \n",
    "    df_predicao = pd.DataFrame(dosagem, columns=['Ci', 'Ca', 'NA', 'Adi', 'Ag', 'Cura', 'RCD'])\n",
    "\n",
    "    for col in df_predicao:\n",
    "        if col in escala:\n",
    "            df_predicao[col] = df_predicao[col].apply(lambda x: (x - escala[col][0]) / escala[col][1])\n",
    "\n",
    "    # Fazer a predição\n",
    "    RESULTS = modelo_carregado.predict(df_predicao)\n",
    "\n",
    "    return RESULTS"
   ]
  },
  {
   "cell_type": "code",
   "execution_count": 4,
   "metadata": {},
   "outputs": [
    {
     "name": "stdout",
     "output_type": "stream",
     "text": [
      "[3.5168872]\n"
     ]
    },
    {
     "name": "stderr",
     "output_type": "stream",
     "text": [
      "/tmp/ipykernel_12084/4284307307.py:12: FutureWarning: Series.__getitem__ treating keys as positions is deprecated. In a future version, integer keys will always be treated as labels (consistent with DataFrame behavior). To access a value by position, use `ser.iloc[pos]`\n",
      "  df_predicao[col] = df_predicao[col].apply(lambda x: (x - escala[col][0]) / escala[col][1])\n"
     ]
    }
   ],
   "source": [
    "edited_df = pd.DataFrame([[384.3, 531.0, 2350.0, 0, 0, 0, 648.0, 28.0]])\n",
    "\n",
    "# edited_df = pd.DataFrame([[384.3, 531.0, 2350.0, 0.0, 117.45, 0.0, 648, 28.0]])\n",
    "\n",
    "resultado = MODEL_CONCRETA_MORTAR(edited_df,scale, model)\n",
    "print(resultado)"
   ]
  }
 ],
 "metadata": {
  "kernelspec": {
   "display_name": "base",
   "language": "python",
   "name": "python3"
  },
  "language_info": {
   "codemirror_mode": {
    "name": "ipython",
    "version": 3
   },
   "file_extension": ".py",
   "mimetype": "text/x-python",
   "name": "python",
   "nbconvert_exporter": "python",
   "pygments_lexer": "ipython3",
   "version": "3.10.12"
  }
 },
 "nbformat": 4,
 "nbformat_minor": 2
}
