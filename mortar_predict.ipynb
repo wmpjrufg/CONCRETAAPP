{
 "cells": [
  {
   "cell_type": "code",
   "execution_count": 1,
   "metadata": {},
   "outputs": [],
   "source": [
    "import pickle\n",
    "import pandas as pd"
   ]
  },
  {
   "cell_type": "code",
   "execution_count": 2,
   "metadata": {},
   "outputs": [],
   "source": [
    "SCALE = 'scale.sav'\n",
    "MODEL = 'melhor_modelo.pkl'"
   ]
  },
  {
   "cell_type": "code",
   "execution_count": 3,
   "metadata": {},
   "outputs": [],
   "source": [
    "def MODEL_CONCRETA_MORTAR(edited_df, scale, model):\n",
    "        with open(model, 'rb') as file:\n",
    "                modelo_carregado = pickle.load(file)\n",
    "\n",
    "        with open(scale, 'rb') as file:\n",
    "                ESCALAS = pickle.load(file)\n",
    "        \n",
    "        DOSAGEM = [list(edited_df.iloc[0])]\n",
    "\n",
    "        DF_PREDICAO = pd.DataFrame(\n",
    "            DOSAGEM, columns=[\"Ci\", \"Ca\",\"NA\",\"AR\",\"RBMG\",\"Adi\",\"Cura\",\"w-c\"]\n",
    "        )\n",
    "\n",
    "        for COL in DF_PREDICAO:\n",
    "                if COL != 'Res':\n",
    "                        DF_PREDICAO[COL] = DF_PREDICAO[COL].apply(lambda x: (x - ESCALAS[COL][0]) / ESCALAS[COL][1])\n",
    "\n",
    "        RESULTS =  modelo_carregado.predict(DF_PREDICAO)\n",
    "\n",
    "        return RESULTS"
   ]
  },
  {
   "cell_type": "code",
   "execution_count": 4,
   "metadata": {},
   "outputs": [
    {
     "name": "stdout",
     "output_type": "stream",
     "text": [
      "[5.09539815]\n"
     ]
    }
   ],
   "source": [
    "edited_df = pd.DataFrame([[384.3, 531.0, 2230.0, 0.0, 117.45, 0.0, 28, 1.686183]])\n",
    "#edited_df = pd.DataFrame([[384.3,531.0,2110.0,0.0,234.40,0.0,28,1.686183]])\n",
    "\n",
    "\n",
    "resultado = MODEL_CONCRETA_MORTAR(edited_df,SCALE, MODEL)\n",
    "print(resultado)"
   ]
  }
 ],
 "metadata": {
  "kernelspec": {
   "display_name": "base",
   "language": "python",
   "name": "python3"
  },
  "language_info": {
   "codemirror_mode": {
    "name": "ipython",
    "version": 3
   },
   "file_extension": ".py",
   "mimetype": "text/x-python",
   "name": "python",
   "nbconvert_exporter": "python",
   "pygments_lexer": "ipython3",
   "version": "3.10.9"
  }
 },
 "nbformat": 4,
 "nbformat_minor": 2
}
